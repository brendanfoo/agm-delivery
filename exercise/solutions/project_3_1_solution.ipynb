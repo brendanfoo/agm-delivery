{
 "cells": [
  {
   "cell_type": "markdown",
   "id": "3f465500",
   "metadata": {},
   "source": [
    "# Project 3, Part 1, Create and load the stations, lines, and travel times tables for the BART system\n",
    "\n",
    "\n",
    "University of California, Berkeley\n",
    "\n",
    "Master of Information and Data Science (MIDS) program\n",
    "\n",
    "w205 - Fundamentals of Data Engineering\n",
    "\n",
    "### Note: this is a highly recommended, but optional, exercise.  Solutions are provided in the solutions directory."
   ]
  },
  {
   "cell_type": "markdown",
   "id": "3405ff0b",
   "metadata": {},
   "source": [
    "# BART Map"
   ]
  },
  {
   "cell_type": "markdown",
   "id": "ed89bd9e",
   "metadata": {},
   "source": [
    "![Bart Map](bart_map.png)"
   ]
  },
  {
   "cell_type": "markdown",
   "id": "33c6e20e",
   "metadata": {},
   "source": [
    "# Included Modules and Packages\n",
    "\n",
    "Code cell containing your includes for modules and packages\n",
    "\n",
    "Some starter code is provided\n",
    "\n",
    "You may change the starter code as needed\n",
    "\n",
    "You may add as much code and/or as many code cells as you need"
   ]
  },
  {
   "cell_type": "code",
   "execution_count": 1,
   "id": "530d745a",
   "metadata": {},
   "outputs": [],
   "source": [
    "import csv\n",
    "\n",
    "import math\n",
    "import numpy as np\n",
    "import pandas as pd\n",
    "\n",
    "import psycopg2"
   ]
  },
  {
   "cell_type": "markdown",
   "id": "c91c8869",
   "metadata": {},
   "source": [
    "# Supporting code\n",
    "\n",
    "Code cells containing any supporting code, such as connecting to the database, any functions, etc.  \n",
    "\n",
    "Remember you can freely use any code from the labs. You do not need to cite code from the labs.\n",
    "\n",
    "Some starter code is provided\n",
    "\n",
    "You may change the starter code as needed\n",
    "\n",
    "You may add as much code and/or as many code cells as you need"
   ]
  },
  {
   "cell_type": "code",
   "execution_count": 2,
   "id": "8e09ebb0",
   "metadata": {},
   "outputs": [],
   "source": [
    "#\n",
    "# function to run a select query and return rows in a pandas dataframe\n",
    "# pandas puts all numeric values from postgres to float\n",
    "# if it will fit in an integer, change it to integer\n",
    "#\n",
    "\n",
    "def my_select_query_pandas(query, rollback_before_flag, rollback_after_flag):\n",
    "    \"function to run a select query and return rows in a pandas dataframe\"\n",
    "    \n",
    "    if rollback_before_flag:\n",
    "        connection.rollback()\n",
    "    \n",
    "    df = pd.read_sql_query(query, connection)\n",
    "    \n",
    "    if rollback_after_flag:\n",
    "        connection.rollback()\n",
    "    \n",
    "    # fix the float columns that really should be integers\n",
    "    \n",
    "    for column in df:\n",
    "    \n",
    "        if df[column].dtype == \"float64\":\n",
    "\n",
    "            fraction_flag = False\n",
    "\n",
    "            for value in df[column].values:\n",
    "                \n",
    "                if not np.isnan(value):\n",
    "                    if value - math.floor(value) != 0:\n",
    "                        fraction_flag = True\n",
    "\n",
    "            if not fraction_flag:\n",
    "                df[column] = df[column].astype('Int64')\n",
    "    \n",
    "    return(df)\n",
    "    "
   ]
  },
  {
   "cell_type": "code",
   "execution_count": 3,
   "id": "1f198d4d",
   "metadata": {},
   "outputs": [],
   "source": [
    "connection = psycopg2.connect(\n",
    "    user = \"postgres\",\n",
    "    password = \"ucb\",\n",
    "    host = \"postgres\",\n",
    "    port = \"5432\",\n",
    "    database = \"postgres\"\n",
    ")"
   ]
  },
  {
   "cell_type": "code",
   "execution_count": 4,
   "id": "dc7a762b",
   "metadata": {},
   "outputs": [],
   "source": [
    "cursor = connection.cursor()"
   ]
  },
  {
   "cell_type": "code",
   "execution_count": 5,
   "id": "8d7ad400",
   "metadata": {},
   "outputs": [],
   "source": [
    "def my_read_csv_file(file_name, limit):\n",
    "    \"read the csv file and print only the first limit rows\"\n",
    "    \n",
    "    csv_file = open(file_name, \"r\")\n",
    "    \n",
    "    csv_data = csv.reader(csv_file)\n",
    "    \n",
    "    i = 0\n",
    "    \n",
    "    for row in csv_data:\n",
    "        i += 1\n",
    "        if i <= limit:\n",
    "            print(row)\n",
    "            \n",
    "    print(\"\\nPrinted \", min(limit, i), \"lines of \", i, \"total lines.\")"
   ]
  },
  {
   "cell_type": "markdown",
   "id": "d2e6beed",
   "metadata": {},
   "source": [
    "# 3.1.1 Drop the stations table if it exists\n",
    "\n",
    "The stations table should be named stations"
   ]
  },
  {
   "cell_type": "code",
   "execution_count": 6,
   "id": "3d30a2c7",
   "metadata": {},
   "outputs": [],
   "source": [
    "connection.rollback()\n",
    "\n",
    "query = \"\"\"\n",
    "\n",
    "drop table if exists stations;\n",
    "\n",
    "\"\"\"\n",
    "\n",
    "cursor.execute(query)\n",
    "\n",
    "connection.commit()\n"
   ]
  },
  {
   "cell_type": "markdown",
   "id": "3a0f12f2",
   "metadata": {},
   "source": [
    "# 3.1.2 Drop the lines table if it exists\n",
    "\n",
    "The lines table should be named lines"
   ]
  },
  {
   "cell_type": "code",
   "execution_count": 7,
   "id": "92a0fd66",
   "metadata": {},
   "outputs": [],
   "source": [
    "connection.rollback()\n",
    "\n",
    "query = \"\"\"\n",
    "\n",
    "drop table if exists lines;\n",
    "\n",
    "\"\"\"\n",
    "\n",
    "cursor.execute(query)\n",
    "\n",
    "connection.commit()\n"
   ]
  },
  {
   "cell_type": "markdown",
   "id": "3255e0e7",
   "metadata": {},
   "source": [
    "# 3.1.3 Drop the travel times table if it exists\n",
    "\n",
    "The travel times table should be named travel_times"
   ]
  },
  {
   "cell_type": "code",
   "execution_count": 8,
   "id": "735db74f",
   "metadata": {},
   "outputs": [],
   "source": [
    "connection.rollback()\n",
    "\n",
    "query = \"\"\"\n",
    "\n",
    "drop table if exists travel_times;\n",
    "\n",
    "\"\"\"\n",
    "\n",
    "cursor.execute(query)\n",
    "\n",
    "connection.commit()\n"
   ]
  },
  {
   "cell_type": "markdown",
   "id": "6c605bc0",
   "metadata": {},
   "source": [
    "# 3.1.4 Create the stations table\n",
    "\n",
    "The stations table should be named stations with the following columns:\n",
    "* station varchar(32)\n",
    "* latitude numeric(9,6)\n",
    "* longitude numeric(9,6)\n",
    "* transfer_time numeric(3) \n",
    "\n",
    "station should be the primary key\n",
    "\n",
    "This is a normal table, not a staging table\n",
    "\n",
    "transfer_time is in seconds"
   ]
  },
  {
   "cell_type": "code",
   "execution_count": 9,
   "id": "c23f9e13",
   "metadata": {},
   "outputs": [],
   "source": [
    "connection.rollback()\n",
    "\n",
    "query = \"\"\"\n",
    "\n",
    "create table stations (\n",
    "  station varchar(32),\n",
    "  latitude numeric(9,6),\n",
    "  longitude numeric(9,6),\n",
    "  transfer_time numeric(3),\n",
    "  primary key (station)\n",
    ");\n",
    "\n",
    "\"\"\"\n",
    "\n",
    "cursor.execute(query)\n",
    "\n",
    "connection.commit()"
   ]
  },
  {
   "cell_type": "markdown",
   "id": "361ba85e",
   "metadata": {},
   "source": [
    "# 3.1.5 Create the lines table\n",
    "\n",
    "The lines table should be named lines with the following columns:\n",
    "\n",
    "* line varchar(6)\n",
    "* sequence numeric(2)\n",
    "* station varchar(32)\n",
    "\n",
    "line, sequence should be the composite primary key\n",
    "\n",
    "This is a normal table, not a staging table\n",
    "\n",
    "The stations in each line are listed in order going one direction. The lines move in both directions.  We will only store the data one way, as this is one of the rules of Third Normal Form (3NF)."
   ]
  },
  {
   "cell_type": "code",
   "execution_count": 10,
   "id": "d821bb01",
   "metadata": {},
   "outputs": [],
   "source": [
    "connection.rollback()\n",
    "\n",
    "query = \"\"\"\n",
    "\n",
    "create table lines (\n",
    "  line varchar(6),\n",
    "  sequence numeric(2),\n",
    "  station varchar(32),\n",
    "  primary key (line, sequence)\n",
    ");\n",
    "\n",
    "\"\"\"\n",
    "\n",
    "cursor.execute(query)\n",
    "\n",
    "connection.commit()"
   ]
  },
  {
   "cell_type": "markdown",
   "id": "3e8904e2",
   "metadata": {},
   "source": [
    "# 3.1.6 Create the travel times table\n",
    "\n",
    "The travel times table should be named travel_times with the following columns:\n",
    "\n",
    "* station_1 varchar(32)\n",
    "* station_2 varchar(32)\n",
    "* travel_time numeric(3) \n",
    "\n",
    "station_1, station_2 should be the composite primary key\n",
    "\n",
    "This is a normal table, not a staging table\n",
    "\n",
    "Each entry shows the travel time between two stations, with station_1 alphabetically less than station_2.  \n",
    "\n",
    "Travel time is the same from station_1 to station_2 as it is from station_2 to station_1.\n",
    "\n",
    "Each line has the same travel time between the same two stations.  \n",
    "\n",
    "travel_time is in seconds."
   ]
  },
  {
   "cell_type": "code",
   "execution_count": 11,
   "id": "eec532a8",
   "metadata": {},
   "outputs": [],
   "source": [
    "connection.rollback()\n",
    "\n",
    "query = \"\"\"\n",
    "\n",
    "create table travel_times (\n",
    "  station_1 varchar(32),\n",
    "  station_2 varchar(32),\n",
    "  travel_time numeric(3),\n",
    "  primary key (station_1, station_2)\n",
    ");\n",
    "\n",
    "\"\"\"\n",
    "\n",
    "cursor.execute(query)\n",
    "\n",
    "connection.commit()"
   ]
  },
  {
   "cell_type": "markdown",
   "id": "f35e95b4",
   "metadata": {},
   "source": [
    "# 3.1.7 Display the file stations.csv \n",
    "\n",
    "Display the first 10 rows in the CSV file using the function my_read_csv_file() from the labs, which has been provided above.\n",
    "\n",
    "The output should look similar to the following:\n",
    "```\n",
    "['station', 'latitude', 'longitude', 'transfer_time']\n",
    "['12th Street', '37.803608', '-122.272006', '282']\n",
    "['16th Street Mission', '37.764847', '-122.420042', '287']\n",
    "['19th Street', '37.807869', '-122.26898', '67']\n",
    "['24th Street Mission', '37.752', '-122.4187', '277']\n",
    "['Antioch', '37.996281', '-121.783404', '0']\n",
    "['Ashby', '37.853068', '-122.269957', '299']\n",
    "['Balboa Park', '37.721667', '-122.4475', '48']\n",
    "['Bay Fair', '37.697', '-122.1265', '63']\n",
    "['Berryessa', '37.368361', '-121.874655', '288']\n",
    "\n",
    "Printed  10 lines of  51 total lines.\n",
    "```\n"
   ]
  },
  {
   "cell_type": "code",
   "execution_count": 12,
   "id": "daabc6a0",
   "metadata": {},
   "outputs": [
    {
     "name": "stdout",
     "output_type": "stream",
     "text": [
      "['station', 'latitude', 'longitude', 'transfer_time']\n",
      "['12th Street', '37.803608', '-122.272006', '282']\n",
      "['16th Street Mission', '37.764847', '-122.420042', '287']\n",
      "['19th Street', '37.807869', '-122.26898', '67']\n",
      "['24th Street Mission', '37.752', '-122.4187', '277']\n",
      "['Antioch', '37.996281', '-121.783404', '0']\n",
      "['Ashby', '37.853068', '-122.269957', '299']\n",
      "['Balboa Park', '37.721667', '-122.4475', '48']\n",
      "['Bay Fair', '37.697', '-122.1265', '63']\n",
      "['Berryessa', '37.368361', '-121.874655', '288']\n",
      "\n",
      "Printed  10 lines of  51 total lines.\n"
     ]
    }
   ],
   "source": [
    "my_read_csv_file(\"stations.csv\", limit=10)"
   ]
  },
  {
   "cell_type": "markdown",
   "id": "96aa3863",
   "metadata": {},
   "source": [
    "# 3.1.8 Display the file lines.csv \n",
    "\n",
    "Display the first 10 rows in the CSV file using the function my_read_csv_file() from the labs, which has been provided above.\n",
    "\n",
    "The output should look similar to the following:\n",
    "```\n",
    "['line', 'sequence', 'station']\n",
    "['blue', '1', 'Dublin']\n",
    "['blue', '2', 'West Dublin']\n",
    "['blue', '3', 'Castro Valley']\n",
    "['blue', '4', 'Bay Fair']\n",
    "['blue', '5', 'San Leandro']\n",
    "['blue', '6', 'Coliseum']\n",
    "['blue', '7', 'Fruitvale']\n",
    "['blue', '8', 'Lake Merritt']\n",
    "['blue', '9', 'West Oakland']\n",
    "\n",
    "Printed  10 lines of  115 total lines.\n",
    "```"
   ]
  },
  {
   "cell_type": "code",
   "execution_count": 13,
   "id": "b639fca1",
   "metadata": {},
   "outputs": [
    {
     "name": "stdout",
     "output_type": "stream",
     "text": [
      "['line', 'sequence', 'station']\n",
      "['blue', '1', 'Dublin']\n",
      "['blue', '2', 'West Dublin']\n",
      "['blue', '3', 'Castro Valley']\n",
      "['blue', '4', 'Bay Fair']\n",
      "['blue', '5', 'San Leandro']\n",
      "['blue', '6', 'Coliseum']\n",
      "['blue', '7', 'Fruitvale']\n",
      "['blue', '8', 'Lake Merritt']\n",
      "['blue', '9', 'West Oakland']\n",
      "\n",
      "Printed  10 lines of  115 total lines.\n"
     ]
    }
   ],
   "source": [
    "my_read_csv_file(\"lines.csv\", limit=10)"
   ]
  },
  {
   "cell_type": "markdown",
   "id": "8dc6ed68",
   "metadata": {},
   "source": [
    "# 3.1.9 Display the file travel_times.csv \n",
    "\n",
    "Display the first 10 rows in the CSV file using the function my_read_csv_file() from the labs, which has been provided above.\n",
    "\n",
    "The output should look similar to the following:\n",
    "```\n",
    "['station_1', 'station_2', 'travel_time']\n",
    "['12th Street', '19th Street', '120']\n",
    "['12th Street', 'Lake Merritt', '180']\n",
    "['12th Street', 'West Oakland', '300']\n",
    "['16th Street Mission', '24th Street Mission', '120']\n",
    "['16th Street Mission', 'Civic Center', '180']\n",
    "['19th Street', 'MacArthur', '180']\n",
    "['24th Street Mission', 'Glen Park', '180']\n",
    "['Antioch', 'Pittsburg Center', '420']\n",
    "['Ashby', 'Downtown Berkeley', '180']\n",
    "\n",
    "Printed  10 lines of  52 total lines.\n",
    "```"
   ]
  },
  {
   "cell_type": "code",
   "execution_count": 14,
   "id": "c2ff3d44",
   "metadata": {},
   "outputs": [
    {
     "name": "stdout",
     "output_type": "stream",
     "text": [
      "['station_1', 'station_2', 'travel_time']\n",
      "['12th Street', '19th Street', '120']\n",
      "['12th Street', 'Lake Merritt', '180']\n",
      "['12th Street', 'West Oakland', '300']\n",
      "['16th Street Mission', '24th Street Mission', '120']\n",
      "['16th Street Mission', 'Civic Center', '180']\n",
      "['19th Street', 'MacArthur', '180']\n",
      "['24th Street Mission', 'Glen Park', '180']\n",
      "['Antioch', 'Pittsburg Center', '420']\n",
      "['Ashby', 'Downtown Berkeley', '180']\n",
      "\n",
      "Printed  10 lines of  52 total lines.\n"
     ]
    }
   ],
   "source": [
    "my_read_csv_file(\"travel_times.csv\", limit=10)"
   ]
  },
  {
   "cell_type": "markdown",
   "id": "c31ed590",
   "metadata": {},
   "source": [
    "# 3.1.10 Load stations data into database table\n",
    "\n",
    "Load the CSV file, stations.csv, into the database table stations"
   ]
  },
  {
   "cell_type": "code",
   "execution_count": 15,
   "id": "481c947b",
   "metadata": {},
   "outputs": [
    {
     "ename": "UndefinedFile",
     "evalue": "could not open file \"/user/.instructor/ucb_mids_w205_create/create_project_3/solutions/stations.csv\" for reading: No such file or directory\nHINT:  COPY FROM instructs the PostgreSQL server process to read a file. You may want a client-side facility such as psql's \\copy.\n",
     "output_type": "error",
     "traceback": [
      "\u001b[0;31m---------------------------------------------------------------------------\u001b[0m",
      "\u001b[0;31mUndefinedFile\u001b[0m                             Traceback (most recent call last)",
      "\u001b[0;32m/tmp/ipykernel_74/4258475437.py\u001b[0m in \u001b[0;36m<module>\u001b[0;34m\u001b[0m\n\u001b[1;32m      8\u001b[0m \"\"\"\n\u001b[1;32m      9\u001b[0m \u001b[0;34m\u001b[0m\u001b[0m\n\u001b[0;32m---> 10\u001b[0;31m \u001b[0mcursor\u001b[0m\u001b[0;34m.\u001b[0m\u001b[0mexecute\u001b[0m\u001b[0;34m(\u001b[0m\u001b[0mquery\u001b[0m\u001b[0;34m)\u001b[0m\u001b[0;34m\u001b[0m\u001b[0;34m\u001b[0m\u001b[0m\n\u001b[0m\u001b[1;32m     11\u001b[0m \u001b[0;34m\u001b[0m\u001b[0m\n\u001b[1;32m     12\u001b[0m \u001b[0mconnection\u001b[0m\u001b[0;34m.\u001b[0m\u001b[0mcommit\u001b[0m\u001b[0;34m(\u001b[0m\u001b[0;34m)\u001b[0m\u001b[0;34m\u001b[0m\u001b[0;34m\u001b[0m\u001b[0m\n",
      "\u001b[0;31mUndefinedFile\u001b[0m: could not open file \"/user/.instructor/ucb_mids_w205_create/create_project_3/solutions/stations.csv\" for reading: No such file or directory\nHINT:  COPY FROM instructs the PostgreSQL server process to read a file. You may want a client-side facility such as psql's \\copy.\n"
     ]
    }
   ],
   "source": [
    "connection.rollback()\n",
    "\n",
    "query = \"\"\"\n",
    "\n",
    "copy stations\n",
    "from '/user/.instructor/ucb_mids_w205_create/create_project_3/solutions/stations.csv' delimiter ',' NULL '' csv header;\n",
    "\n",
    "\"\"\"\n",
    "\n",
    "cursor.execute(query)\n",
    "\n",
    "connection.commit()"
   ]
  },
  {
   "cell_type": "markdown",
   "id": "b2fde9a4",
   "metadata": {},
   "source": [
    "# 3.1.11 Load lines data into database table\n",
    "\n",
    "Load the CSV file, lines.csv, into the database table lines\n"
   ]
  },
  {
   "cell_type": "code",
   "execution_count": 16,
   "id": "f1520dca",
   "metadata": {},
   "outputs": [
    {
     "ename": "UndefinedFile",
     "evalue": "could not open file \"/user/.instructor/ucb_mids_w205_create/create_project_3/solutions/lines.csv\" for reading: No such file or directory\nHINT:  COPY FROM instructs the PostgreSQL server process to read a file. You may want a client-side facility such as psql's \\copy.\n",
     "output_type": "error",
     "traceback": [
      "\u001b[0;31m---------------------------------------------------------------------------\u001b[0m",
      "\u001b[0;31mUndefinedFile\u001b[0m                             Traceback (most recent call last)",
      "\u001b[0;32m/tmp/ipykernel_74/3561192172.py\u001b[0m in \u001b[0;36m<module>\u001b[0;34m\u001b[0m\n\u001b[1;32m      8\u001b[0m \"\"\"\n\u001b[1;32m      9\u001b[0m \u001b[0;34m\u001b[0m\u001b[0m\n\u001b[0;32m---> 10\u001b[0;31m \u001b[0mcursor\u001b[0m\u001b[0;34m.\u001b[0m\u001b[0mexecute\u001b[0m\u001b[0;34m(\u001b[0m\u001b[0mquery\u001b[0m\u001b[0;34m)\u001b[0m\u001b[0;34m\u001b[0m\u001b[0;34m\u001b[0m\u001b[0m\n\u001b[0m\u001b[1;32m     11\u001b[0m \u001b[0;34m\u001b[0m\u001b[0m\n\u001b[1;32m     12\u001b[0m \u001b[0mconnection\u001b[0m\u001b[0;34m.\u001b[0m\u001b[0mcommit\u001b[0m\u001b[0;34m(\u001b[0m\u001b[0;34m)\u001b[0m\u001b[0;34m\u001b[0m\u001b[0;34m\u001b[0m\u001b[0m\n",
      "\u001b[0;31mUndefinedFile\u001b[0m: could not open file \"/user/.instructor/ucb_mids_w205_create/create_project_3/solutions/lines.csv\" for reading: No such file or directory\nHINT:  COPY FROM instructs the PostgreSQL server process to read a file. You may want a client-side facility such as psql's \\copy.\n"
     ]
    }
   ],
   "source": [
    "connection.rollback()\n",
    "\n",
    "query = \"\"\"\n",
    "\n",
    "copy lines\n",
    "from '/user/.instructor/ucb_mids_w205_create/create_project_3/solutions/lines.csv' delimiter ',' NULL '' csv header;\n",
    "\n",
    "\"\"\"\n",
    "\n",
    "cursor.execute(query)\n",
    "\n",
    "connection.commit()"
   ]
  },
  {
   "cell_type": "markdown",
   "id": "a7c89195",
   "metadata": {},
   "source": [
    "# 3.1.12 Load travel_times data into database table\n",
    "\n",
    "Load the CSV file, travel_times.csv, into the database table travel_times"
   ]
  },
  {
   "cell_type": "code",
   "execution_count": 17,
   "id": "1408146f",
   "metadata": {},
   "outputs": [
    {
     "ename": "UndefinedFile",
     "evalue": "could not open file \"/user/.instructor/ucb_mids_w205_create/create_project_3/solutions/travel_times.csv\" for reading: No such file or directory\nHINT:  COPY FROM instructs the PostgreSQL server process to read a file. You may want a client-side facility such as psql's \\copy.\n",
     "output_type": "error",
     "traceback": [
      "\u001b[0;31m---------------------------------------------------------------------------\u001b[0m",
      "\u001b[0;31mUndefinedFile\u001b[0m                             Traceback (most recent call last)",
      "\u001b[0;32m/tmp/ipykernel_74/3183969319.py\u001b[0m in \u001b[0;36m<module>\u001b[0;34m\u001b[0m\n\u001b[1;32m      8\u001b[0m \"\"\"\n\u001b[1;32m      9\u001b[0m \u001b[0;34m\u001b[0m\u001b[0m\n\u001b[0;32m---> 10\u001b[0;31m \u001b[0mcursor\u001b[0m\u001b[0;34m.\u001b[0m\u001b[0mexecute\u001b[0m\u001b[0;34m(\u001b[0m\u001b[0mquery\u001b[0m\u001b[0;34m)\u001b[0m\u001b[0;34m\u001b[0m\u001b[0;34m\u001b[0m\u001b[0m\n\u001b[0m\u001b[1;32m     11\u001b[0m \u001b[0;34m\u001b[0m\u001b[0m\n\u001b[1;32m     12\u001b[0m \u001b[0mconnection\u001b[0m\u001b[0;34m.\u001b[0m\u001b[0mcommit\u001b[0m\u001b[0;34m(\u001b[0m\u001b[0;34m)\u001b[0m\u001b[0;34m\u001b[0m\u001b[0;34m\u001b[0m\u001b[0m\n",
      "\u001b[0;31mUndefinedFile\u001b[0m: could not open file \"/user/.instructor/ucb_mids_w205_create/create_project_3/solutions/travel_times.csv\" for reading: No such file or directory\nHINT:  COPY FROM instructs the PostgreSQL server process to read a file. You may want a client-side facility such as psql's \\copy.\n"
     ]
    }
   ],
   "source": [
    "connection.rollback()\n",
    "\n",
    "query = \"\"\"\n",
    "\n",
    "copy travel_times\n",
    "from '/user/.instructor/ucb_mids_w205_create/create_project_3/solutions/travel_times.csv' delimiter ',' NULL '' csv header;\n",
    "\n",
    "\"\"\"\n",
    "\n",
    "cursor.execute(query)\n",
    "\n",
    "connection.commit()"
   ]
  },
  {
   "cell_type": "markdown",
   "id": "6f844d1e",
   "metadata": {},
   "source": [
    "# 3.1.13 Verify the stations loaded correctly\n",
    "\n",
    "Write a query to verify the stations loaded correctly\n",
    "\n",
    "Select all columns and all rows from the table stations\n",
    "\n",
    "Sort by station\n",
    "\n",
    "Display the results in a Pandas data frame\n",
    "\n",
    "The query should return 50 rows into a Pandas dataframe. The first and last rows should look similar to this: \n",
    "\n",
    "||station|latitude|longitude|transfer_time|\n",
    "|---|---|---|---|---|\n",
    "|0|12th Street|37.803608|-122.272006|282|\n",
    "|...|...|...|...|...|\n",
    "|49|West Oakland|37.8049|-122.2951|283|"
   ]
  },
  {
   "cell_type": "code",
   "execution_count": 18,
   "id": "28ad8dd6",
   "metadata": {},
   "outputs": [
    {
     "data": {
      "text/html": [
       "<div>\n",
       "<style scoped>\n",
       "    .dataframe tbody tr th:only-of-type {\n",
       "        vertical-align: middle;\n",
       "    }\n",
       "\n",
       "    .dataframe tbody tr th {\n",
       "        vertical-align: top;\n",
       "    }\n",
       "\n",
       "    .dataframe thead th {\n",
       "        text-align: right;\n",
       "    }\n",
       "</style>\n",
       "<table border=\"1\" class=\"dataframe\">\n",
       "  <thead>\n",
       "    <tr style=\"text-align: right;\">\n",
       "      <th></th>\n",
       "      <th>station</th>\n",
       "      <th>latitude</th>\n",
       "      <th>longitude</th>\n",
       "      <th>transfer_time</th>\n",
       "    </tr>\n",
       "  </thead>\n",
       "  <tbody>\n",
       "  </tbody>\n",
       "</table>\n",
       "</div>"
      ],
      "text/plain": [
       "Empty DataFrame\n",
       "Columns: [station, latitude, longitude, transfer_time]\n",
       "Index: []"
      ]
     },
     "execution_count": 18,
     "metadata": {},
     "output_type": "execute_result"
    }
   ],
   "source": [
    "rollback_before_flag = True\n",
    "rollback_after_flag = True\n",
    "\n",
    "query = \"\"\"\n",
    "\n",
    "select *\n",
    "from stations\n",
    "order by station\n",
    "\n",
    "\"\"\"\n",
    "\n",
    "my_select_query_pandas(query, rollback_before_flag, rollback_after_flag)"
   ]
  },
  {
   "cell_type": "markdown",
   "id": "0d951dff",
   "metadata": {},
   "source": [
    "# 3.1.14 Verify the lines loaded correctly\n",
    "\n",
    "Write a query to verify the lines loaded correctly\n",
    "\n",
    "Select all columns and all rows from the table lines\n",
    "\n",
    "Sort by lines, sequence\n",
    "\n",
    "Display the results in a Pandas data frame\n",
    "\n",
    "The query should return 114 rows into a Pandas dataframe. The first and last rows should look similar to this: \n",
    "\n",
    "||line|sequence|station|\n",
    "|---|---|---|---|\n",
    "|0|blue|1|Dublin|\n",
    "|...|...|...|...|\n",
    "|113|yellow|27|SFO|"
   ]
  },
  {
   "cell_type": "code",
   "execution_count": 19,
   "id": "462f5115",
   "metadata": {},
   "outputs": [
    {
     "data": {
      "text/html": [
       "<div>\n",
       "<style scoped>\n",
       "    .dataframe tbody tr th:only-of-type {\n",
       "        vertical-align: middle;\n",
       "    }\n",
       "\n",
       "    .dataframe tbody tr th {\n",
       "        vertical-align: top;\n",
       "    }\n",
       "\n",
       "    .dataframe thead th {\n",
       "        text-align: right;\n",
       "    }\n",
       "</style>\n",
       "<table border=\"1\" class=\"dataframe\">\n",
       "  <thead>\n",
       "    <tr style=\"text-align: right;\">\n",
       "      <th></th>\n",
       "      <th>line</th>\n",
       "      <th>sequence</th>\n",
       "      <th>station</th>\n",
       "    </tr>\n",
       "  </thead>\n",
       "  <tbody>\n",
       "  </tbody>\n",
       "</table>\n",
       "</div>"
      ],
      "text/plain": [
       "Empty DataFrame\n",
       "Columns: [line, sequence, station]\n",
       "Index: []"
      ]
     },
     "execution_count": 19,
     "metadata": {},
     "output_type": "execute_result"
    }
   ],
   "source": [
    "rollback_before_flag = True\n",
    "rollback_after_flag = True\n",
    "\n",
    "query = \"\"\"\n",
    "\n",
    "select *\n",
    "from lines\n",
    "order by line, sequence\n",
    "\n",
    "\"\"\"\n",
    "\n",
    "my_select_query_pandas(query, rollback_before_flag, rollback_after_flag)"
   ]
  },
  {
   "cell_type": "markdown",
   "id": "c98472cf",
   "metadata": {},
   "source": [
    "# 3.1.15 Verify the travel times loaded correctly\n",
    "\n",
    "Write a query to verify the travel times loaded correctly \n",
    "\n",
    "Select all columns and all rows from the travel_times\n",
    "\n",
    "Sort by station_1, station_2\n",
    "\n",
    "Display the results in a Pandas data frame\n",
    "\n",
    "The query should return 51 rows into a Pandas dataframe. The first and last rows should look similar to this: \n",
    "\n",
    "||station_1|station_2|travel_time|\n",
    "|---|---|---|---|\n",
    "|0|12th Street|19th Street|120|\n",
    "|...|...|...|...|\n",
    "|50|South Hayward|Union City|300|"
   ]
  },
  {
   "cell_type": "code",
   "execution_count": 20,
   "id": "a624ca1f",
   "metadata": {},
   "outputs": [
    {
     "data": {
      "text/html": [
       "<div>\n",
       "<style scoped>\n",
       "    .dataframe tbody tr th:only-of-type {\n",
       "        vertical-align: middle;\n",
       "    }\n",
       "\n",
       "    .dataframe tbody tr th {\n",
       "        vertical-align: top;\n",
       "    }\n",
       "\n",
       "    .dataframe thead th {\n",
       "        text-align: right;\n",
       "    }\n",
       "</style>\n",
       "<table border=\"1\" class=\"dataframe\">\n",
       "  <thead>\n",
       "    <tr style=\"text-align: right;\">\n",
       "      <th></th>\n",
       "      <th>station_1</th>\n",
       "      <th>station_2</th>\n",
       "      <th>travel_time</th>\n",
       "    </tr>\n",
       "  </thead>\n",
       "  <tbody>\n",
       "  </tbody>\n",
       "</table>\n",
       "</div>"
      ],
      "text/plain": [
       "Empty DataFrame\n",
       "Columns: [station_1, station_2, travel_time]\n",
       "Index: []"
      ]
     },
     "execution_count": 20,
     "metadata": {},
     "output_type": "execute_result"
    }
   ],
   "source": [
    "rollback_before_flag = True\n",
    "rollback_after_flag = True\n",
    "\n",
    "query = \"\"\"\n",
    "\n",
    "select *\n",
    "from travel_times\n",
    "order by station_1, station_2\n",
    "\n",
    "\"\"\"\n",
    "\n",
    "my_select_query_pandas(query, rollback_before_flag, rollback_after_flag)"
   ]
  },
  {
   "cell_type": "code",
   "execution_count": null,
   "id": "fc03aa41",
   "metadata": {},
   "outputs": [],
   "source": []
  },
  {
   "cell_type": "code",
   "execution_count": null,
   "id": "a5cb3ca1",
   "metadata": {},
   "outputs": [],
   "source": []
  },
  {
   "cell_type": "code",
   "execution_count": null,
   "id": "2c1b4c93",
   "metadata": {},
   "outputs": [],
   "source": []
  },
  {
   "cell_type": "code",
   "execution_count": null,
   "id": "f0e1521a",
   "metadata": {},
   "outputs": [],
   "source": []
  }
 ],
 "metadata": {
  "kernelspec": {
   "display_name": "Python 3 (ipykernel)",
   "language": "python",
   "name": "python3"
  },
  "language_info": {
   "codemirror_mode": {
    "name": "ipython",
    "version": 3
   },
   "file_extension": ".py",
   "mimetype": "text/x-python",
   "name": "python",
   "nbconvert_exporter": "python",
   "pygments_lexer": "ipython3",
   "version": "3.9.7"
  }
 },
 "nbformat": 4,
 "nbformat_minor": 5
}
