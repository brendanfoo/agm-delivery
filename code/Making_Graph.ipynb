{
 "cells": [
  {
   "cell_type": "code",
   "execution_count": 1,
   "id": "65074129",
   "metadata": {},
   "outputs": [],
   "source": [
    "import neo4j\n",
    "\n",
    "import csv\n",
    "\n",
    "import math\n",
    "import numpy as np\n",
    "import pandas as pd\n",
    "\n",
    "import psycopg2"
   ]
  },
  {
   "cell_type": "code",
   "execution_count": 2,
   "id": "cfc6f97a",
   "metadata": {},
   "outputs": [],
   "source": [
    "driver = neo4j.GraphDatabase.driver(uri=\"neo4j://neo4j:7687\", auth=(\"neo4j\",\"ucb_mids_w205\"))"
   ]
  },
  {
   "cell_type": "code",
   "execution_count": 3,
   "id": "8c941729",
   "metadata": {},
   "outputs": [],
   "source": [
    "session = driver.session(database=\"neo4j\")"
   ]
  },
  {
   "cell_type": "code",
   "execution_count": 4,
   "id": "9a90b30b",
   "metadata": {},
   "outputs": [],
   "source": [
    "def my_neo4j_wipe_out_database():\n",
    "    \"wipe out database by deleting all nodes and relationships\"\n",
    "    \n",
    "    query = \"match (node)-[relationship]->() delete node, relationship\"\n",
    "    session.run(query)\n",
    "    \n",
    "    query = \"match (node) delete node\"\n",
    "    session.run(query)"
   ]
  },
  {
   "cell_type": "code",
   "execution_count": 5,
   "id": "400bbf9c",
   "metadata": {},
   "outputs": [],
   "source": [
    "def my_neo4j_run_query_pandas(query, **kwargs):\n",
    "    \"run a query and return the results in a pandas dataframe\"\n",
    "    \n",
    "    result = session.run(query, **kwargs)\n",
    "    \n",
    "    df = pd.DataFrame([r.values() for r in result], columns=result.keys())\n",
    "    \n",
    "    return df"
   ]
  },
  {
   "cell_type": "code",
   "execution_count": 6,
   "id": "e68cb53d",
   "metadata": {},
   "outputs": [],
   "source": [
    "def my_neo4j_number_nodes_relationships():\n",
    "    \"print the number of nodes and relationships\"\n",
    "   \n",
    "    \n",
    "    query = \"\"\"\n",
    "        match (n) \n",
    "        return n.name as node_name, labels(n) as labels\n",
    "        order by n.name\n",
    "    \"\"\"\n",
    "    \n",
    "    df = my_neo4j_run_query_pandas(query)\n",
    "    \n",
    "    number_nodes = df.shape[0]\n",
    "    \n",
    "    \n",
    "    query = \"\"\"\n",
    "        match (n1)-[r]->(n2) \n",
    "        return n1.name as node_name_1, labels(n1) as node_1_labels, \n",
    "            type(r) as relationship_type, n2.name as node_name_2, labels(n2) as node_2_labels\n",
    "        order by node_name_1, node_name_2\n",
    "    \"\"\"\n",
    "    \n",
    "    df = my_neo4j_run_query_pandas(query)\n",
    "    \n",
    "    number_relationships = df.shape[0]\n",
    "    \n",
    "    print(\"-------------------------\")\n",
    "    print(\"  Nodes:\", number_nodes)\n",
    "    print(\"  Relationships:\", number_relationships)\n",
    "    print(\"-------------------------\")\n"
   ]
  },
  {
   "cell_type": "code",
   "execution_count": 7,
   "id": "16f8191f",
   "metadata": {},
   "outputs": [],
   "source": [
    "def my_neo4j_create_node(station_name):\n",
    "    \"create a node with label Station\"\n",
    "    \n",
    "    query = \"\"\"\n",
    "    \n",
    "    CREATE (:Station {name: $station_name})\n",
    "    \n",
    "    \"\"\"\n",
    "    \n",
    "    session.run(query, station_name=station_name)\n",
    "    "
   ]
  },
  {
   "cell_type": "code",
   "execution_count": 8,
   "id": "2f10de9d",
   "metadata": {},
   "outputs": [],
   "source": [
    "def my_neo4j_create_relationship_one_way(from_station, to_station, weight):\n",
    "    \"create a relationship one way between two stations with a weight\"\n",
    "    \n",
    "    query = \"\"\"\n",
    "    \n",
    "    MATCH (from:Station), \n",
    "          (to:Station)\n",
    "    WHERE from.name = $from_station and to.name = $to_station\n",
    "    CREATE (from)-[:LINK {weight: $weight}]->(to)\n",
    "    \n",
    "    \"\"\"\n",
    "    \n",
    "    session.run(query, from_station=from_station, to_station=to_station, weight=weight)\n",
    "    "
   ]
  },
  {
   "cell_type": "code",
   "execution_count": 9,
   "id": "d1569be5",
   "metadata": {},
   "outputs": [],
   "source": [
    "def my_neo4j_create_relationship_two_way(from_station, to_station, weight):\n",
    "    \"create relationships two way between two stations with a weight\"\n",
    "    \n",
    "    query = \"\"\"\n",
    "    \n",
    "    MATCH (from:Station), \n",
    "          (to:Station)\n",
    "    WHERE from.name = $from_station and to.name = $to_station\n",
    "    CREATE (from)-[:LINK {weight: $weight}]->(to),\n",
    "           (to)-[:LINK {weight: $weight}]->(from)\n",
    "    \n",
    "    \"\"\"\n",
    "    \n",
    "    session.run(query, from_station=from_station, to_station=to_station, weight=weight)\n",
    "    "
   ]
  },
  {
   "cell_type": "code",
   "execution_count": 10,
   "id": "060304cb",
   "metadata": {},
   "outputs": [],
   "source": [
    "connection = psycopg2.connect(\n",
    "    user = \"postgres\",\n",
    "    password = \"ucb\",\n",
    "    host = \"postgres\",\n",
    "    port = \"5432\",\n",
    "    database = \"postgres\"\n",
    ")"
   ]
  },
  {
   "cell_type": "code",
   "execution_count": 11,
   "id": "6c5e07e6",
   "metadata": {},
   "outputs": [],
   "source": [
    "cursor = connection.cursor()"
   ]
  },
  {
   "cell_type": "code",
   "execution_count": 12,
   "id": "6714663a",
   "metadata": {},
   "outputs": [],
   "source": [
    "my_neo4j_wipe_out_database()"
   ]
  },
  {
   "cell_type": "code",
   "execution_count": 13,
   "id": "5bfdddce",
   "metadata": {},
   "outputs": [],
   "source": [
    "connection.rollback()\n",
    "\n",
    "query = \"\"\"\n",
    "\n",
    "select station\n",
    "from stations\n",
    "order by station\n",
    "\n",
    "\"\"\"\n",
    "\n",
    "cursor.execute(query)\n",
    "\n",
    "connection.rollback()\n",
    "\n",
    "rows = cursor.fetchall()\n",
    "\n",
    "for row in rows:\n",
    "    \n",
    "    station = row[0]\n",
    "    \n",
    "    my_neo4j_create_node('depart ' + station)\n",
    "    my_neo4j_create_node('arrive ' + station)\n",
    "    "
   ]
  },
  {
   "cell_type": "code",
   "execution_count": 14,
   "id": "d77271f8",
   "metadata": {},
   "outputs": [],
   "source": [
    "connection.rollback()\n",
    "\n",
    "query = \"\"\"\n",
    "\n",
    "select station, line\n",
    "from lines\n",
    "order by station, line\n",
    "\n",
    "\"\"\"\n",
    "\n",
    "cursor.execute(query)\n",
    "\n",
    "connection.rollback()\n",
    "\n",
    "rows = cursor.fetchall()\n",
    "\n",
    "for row in rows:\n",
    "    \n",
    "    station = row[0]\n",
    "    line = row[1]\n",
    "    \n",
    "    depart = 'depart ' + station\n",
    "    arrive = 'arrive ' + station\n",
    "    line_station = line + ' ' + station\n",
    "    \n",
    "    my_neo4j_create_node(line_station)\n",
    "    my_neo4j_create_relationship_one_way(depart, line_station, 0)\n",
    "    my_neo4j_create_relationship_one_way(line_station, arrive, 0)\n",
    "    "
   ]
  },
  {
   "cell_type": "code",
   "execution_count": 15,
   "id": "20f0896e",
   "metadata": {},
   "outputs": [],
   "source": [
    "connection.rollback()\n",
    "\n",
    "query = \"\"\"\n",
    "\n",
    "select a.station, a.line as from_line, b.line as to_line, s.transfer_time\n",
    "from lines a\n",
    "     join lines b\n",
    "       on a.station = b.station and a.line <> b.line \n",
    "     join stations s\n",
    "       on a.station = s.station\n",
    "order by 1, 2, 3\n",
    "\n",
    "\"\"\"\n",
    "\n",
    "cursor.execute(query)\n",
    "\n",
    "connection.rollback()\n",
    "\n",
    "rows = cursor.fetchall()\n",
    "\n",
    "for row in rows:\n",
    "    \n",
    "    station = row[0]\n",
    "    from_line = row[1]\n",
    "    to_line = row[2]\n",
    "    transfer_time = int(row[3])\n",
    "    \n",
    "    from_station = from_line + ' ' + station\n",
    "    to_station = to_line + ' ' + station\n",
    "    \n",
    "    my_neo4j_create_relationship_one_way(from_station, to_station, transfer_time)\n",
    "    "
   ]
  },
  {
   "cell_type": "code",
   "execution_count": 16,
   "id": "a07680f7",
   "metadata": {},
   "outputs": [],
   "source": [
    "connection.rollback()\n",
    "\n",
    "query = \"\"\"\n",
    "\n",
    "select a.line, a.station as from_station, b.station as to_station, t.travel_time\n",
    "from lines a\n",
    "  join lines b\n",
    "    on a.line = b.line and b.sequence = (a.sequence + 1)\n",
    "  join travel_times t\n",
    "    on (a.station = t.station_1 and b.station = t.station_2)\n",
    "        or (a.station = t.station_2 and b.station = t.station_1)\n",
    "order by line, from_station, to_station\n",
    "\n",
    "\"\"\"\n",
    "\n",
    "cursor.execute(query)\n",
    "\n",
    "connection.rollback()\n",
    "\n",
    "rows = cursor.fetchall()\n",
    "\n",
    "for row in rows:\n",
    "    \n",
    "    line = row[0]\n",
    "    from_station = line + ' ' + row[1]\n",
    "    to_station = line + ' ' + row[2]\n",
    "    travel_time = int(row[3])\n",
    "    \n",
    "    my_neo4j_create_relationship_two_way(from_station, to_station, travel_time)\n",
    "    "
   ]
  },
  {
   "cell_type": "code",
   "execution_count": 17,
   "id": "9f1a8bf3",
   "metadata": {},
   "outputs": [
    {
     "name": "stdout",
     "output_type": "stream",
     "text": [
      "-------------------------\n",
      "  Nodes: 214\n",
      "  Relationships: 652\n",
      "-------------------------\n"
     ]
    }
   ],
   "source": [
    "my_neo4j_number_nodes_relationships()"
   ]
  },
  {
   "cell_type": "code",
   "execution_count": 22,
   "id": "5c56db1e",
   "metadata": {},
   "outputs": [
    {
     "data": {
      "text/plain": [
       "<neo4j._sync.work.result.Result at 0x7f492de352b0>"
      ]
     },
     "execution_count": 22,
     "metadata": {},
     "output_type": "execute_result"
    }
   ],
   "source": [
    "query = \"CALL gds.graph.drop('stations', false)\"\n",
    "session.run(query)\n",
    "\n",
    "query = \"\"\"\n",
    "\n",
    "CALL gds.graph.project('stations', 'Station', 'LINK')\n",
    "\n",
    "\"\"\"\n",
    "\n",
    "session.run(query)"
   ]
  },
  {
   "cell_type": "code",
   "execution_count": 25,
   "id": "51b8cc66",
   "metadata": {},
   "outputs": [
    {
     "data": {
      "text/html": [
       "<div>\n",
       "<style scoped>\n",
       "    .dataframe tbody tr th:only-of-type {\n",
       "        vertical-align: middle;\n",
       "    }\n",
       "\n",
       "    .dataframe tbody tr th {\n",
       "        vertical-align: top;\n",
       "    }\n",
       "\n",
       "    .dataframe thead th {\n",
       "        text-align: right;\n",
       "    }\n",
       "</style>\n",
       "<table border=\"1\" class=\"dataframe\">\n",
       "  <thead>\n",
       "    <tr style=\"text-align: right;\">\n",
       "      <th></th>\n",
       "      <th>station_name</th>\n",
       "      <th>community</th>\n",
       "    </tr>\n",
       "  </thead>\n",
       "  <tbody>\n",
       "    <tr>\n",
       "      <th>0</th>\n",
       "      <td>blue 16th Street Mission</td>\n",
       "      <td>119</td>\n",
       "    </tr>\n",
       "    <tr>\n",
       "      <th>1</th>\n",
       "      <td>green 16th Street Mission</td>\n",
       "      <td>119</td>\n",
       "    </tr>\n",
       "    <tr>\n",
       "      <th>2</th>\n",
       "      <td>red 16th Street Mission</td>\n",
       "      <td>119</td>\n",
       "    </tr>\n",
       "    <tr>\n",
       "      <th>3</th>\n",
       "      <td>yellow 16th Street Mission</td>\n",
       "      <td>119</td>\n",
       "    </tr>\n",
       "    <tr>\n",
       "      <th>4</th>\n",
       "      <td>blue 24th Street Mission</td>\n",
       "      <td>119</td>\n",
       "    </tr>\n",
       "    <tr>\n",
       "      <th>...</th>\n",
       "      <td>...</td>\n",
       "      <td>...</td>\n",
       "    </tr>\n",
       "    <tr>\n",
       "      <th>209</th>\n",
       "      <td>arrive Milpitas</td>\n",
       "      <td>203</td>\n",
       "    </tr>\n",
       "    <tr>\n",
       "      <th>210</th>\n",
       "      <td>depart Union City</td>\n",
       "      <td>203</td>\n",
       "    </tr>\n",
       "    <tr>\n",
       "      <th>211</th>\n",
       "      <td>arrive Union City</td>\n",
       "      <td>203</td>\n",
       "    </tr>\n",
       "    <tr>\n",
       "      <th>212</th>\n",
       "      <td>depart Warm Springs</td>\n",
       "      <td>203</td>\n",
       "    </tr>\n",
       "    <tr>\n",
       "      <th>213</th>\n",
       "      <td>arrive Warm Springs</td>\n",
       "      <td>203</td>\n",
       "    </tr>\n",
       "  </tbody>\n",
       "</table>\n",
       "<p>214 rows × 2 columns</p>\n",
       "</div>"
      ],
      "text/plain": [
       "                   station_name  community\n",
       "0      blue 16th Street Mission        119\n",
       "1     green 16th Street Mission        119\n",
       "2       red 16th Street Mission        119\n",
       "3    yellow 16th Street Mission        119\n",
       "4      blue 24th Street Mission        119\n",
       "..                          ...        ...\n",
       "209             arrive Milpitas        203\n",
       "210           depart Union City        203\n",
       "211           arrive Union City        203\n",
       "212         depart Warm Springs        203\n",
       "213         arrive Warm Springs        203\n",
       "\n",
       "[214 rows x 2 columns]"
      ]
     },
     "execution_count": 25,
     "metadata": {},
     "output_type": "execute_result"
    }
   ],
   "source": [
    "query = \"\"\"\n",
    "\n",
    "CALL gds.louvain.stream('stations')\n",
    "YIELD nodeId, communityId\n",
    "RETURN gds.util.asNode(nodeId).name AS station_name, communityId AS community\n",
    "ORDER BY community\n",
    "\n",
    "\"\"\"\n",
    "\n",
    "my_neo4j_run_query_pandas(query)"
   ]
  },
  {
   "cell_type": "markdown",
   "id": "a2ca63f3",
   "metadata": {},
   "source": [
    "To see graph in neo4j GUI:\n",
    "\n",
    "- Use this link in private browser, replacing X's with server IP adress https://xxxx:7473\n",
    "- log in with username neo4j password ucb_mids_w205\n",
    "- use command \"match (n) return n\"\n"
   ]
  },
  {
   "cell_type": "code",
   "execution_count": null,
   "id": "1db1a0d9",
   "metadata": {},
   "outputs": [],
   "source": []
  }
 ],
 "metadata": {
  "kernelspec": {
   "display_name": "Python 3 (ipykernel)",
   "language": "python",
   "name": "python3"
  },
  "language_info": {
   "codemirror_mode": {
    "name": "ipython",
    "version": 3
   },
   "file_extension": ".py",
   "mimetype": "text/x-python",
   "name": "python",
   "nbconvert_exporter": "python",
   "pygments_lexer": "ipython3",
   "version": "3.9.7"
  }
 },
 "nbformat": 4,
 "nbformat_minor": 5
}
